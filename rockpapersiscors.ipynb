{
  "nbformat": 4,
  "nbformat_minor": 0,
  "metadata": {
    "colab": {
      "provenance": []
    },
    "kernelspec": {
      "name": "python3",
      "display_name": "Python 3"
    },
    "language_info": {
      "name": "python"
    }
  },
  "cells": [
    {
      "cell_type": "code",
      "execution_count": 4,
      "metadata": {
        "colab": {
          "base_uri": "https://localhost:8080/"
        },
        "id": "OHlvTDj-o3m0",
        "outputId": "05aed09b-07aa-4cd1-d001-406971c9e85c"
      },
      "outputs": [
        {
          "output_type": "stream",
          "name": "stdout",
          "text": [
            "Winning rules of the game ROCK PAPER SCISSORS are :\n",
            "Rock vs Paper -> Paper wins \n",
            "Rock vs Scissors -> Rock wins \n",
            "Paper vs Scissors -> Scissor wins \n",
            "\n",
            "Enter your choice \n",
            " 1 - Rock \n",
            " 2 - Paper \n",
            " 3 - Scissors \n",
            "\n",
            "Enter your choice :1\n",
            "User choice is \n",
            " Rock\n",
            "Now its Computers Turn....\n",
            "Computer choice is \n",
            " Paper\n",
            "Rock Vs Paper\n",
            "paper wins =><== Computer wins ==>\n",
            "Do you want to play again? (Y/N)\n",
            "n\n",
            "thanks for playing\n"
          ]
        }
      ],
      "source": [
        "import random\n",
        "print('Winning rules of the game ROCK PAPER SCISSORS are :\\n'\n",
        "      + \"Rock vs Paper -> Paper wins \\n\"\n",
        "      + \"Rock vs Scissors -> Rock wins \\n\"\n",
        "      + \"Paper vs Scissors -> Scissor wins \\n\")\n",
        "while True:\n",
        "\n",
        "    print(\"Enter your choice \\n 1 - Rock \\n 2 - Paper \\n 3 - Scissors \\n\")\n",
        "    choice = int(input(\"Enter your choice :\"))\n",
        "    while choice > 3 or choice < 1:\n",
        "        choice = int(input('Enter a valid choice please ☺'))\n",
        "    if choice == 1:\n",
        "        choice_name = 'Rock'\n",
        "    elif choice == 2:\n",
        "        choice_name = 'Paper'\n",
        "    else:\n",
        "        choice_name = 'Scissors'\n",
        "\n",
        "        # print user choice\n",
        "    print('User choice is \\n', choice_name)\n",
        "    print('Now its Computers Turn....')\n",
        "    comp_choice = random.randint(1, 3)\n",
        "    while comp_choice == choice:\n",
        "        comp_choice = random.randint(1, 3)\n",
        "\n",
        "    if comp_choice == 1:\n",
        "        comp_choice_name = 'RocK'\n",
        "    elif comp_choice == 2:\n",
        "        comp_choice_name = 'Paper'\n",
        "    else:\n",
        "        comp_choice_name = 'Scissors'\n",
        "    print(\"Computer choice is \\n\", comp_choice_name)\n",
        "    print(choice_name, 'Vs', comp_choice_name)\n",
        "    # we need to check of a draw\n",
        "    if choice == comp_choice:\n",
        "        print('Its a Draw', end=\"\")\n",
        "        result = \"DRAW\"\n",
        "    # condition for winning\n",
        "    if (choice == 1 and comp_choice == 2):\n",
        "        print('paper wins =>', end=\"\")\n",
        "        result = 'Paper'\n",
        "    elif (choice == 2 and comp_choice == 1):\n",
        "        print('paper wins =>', end=\"\")\n",
        "        result = 'Paper'\n",
        "\n",
        "    if (choice == 1 and comp_choice == 3):\n",
        "        print('Rock wins =>\\n', end=\"\")\n",
        "        result = 'Rock'\n",
        "    elif (choice == 3 and comp_choice == 1):\n",
        "        print('Rock wins =>\\n', end=\"\")\n",
        "        result = 'RocK'\n",
        "\n",
        "    if (choice == 2 and comp_choice == 3):\n",
        "        print('Scissors wins =>', end=\"\")\n",
        "        result = 'Scissors'\n",
        "    elif (choice == 3 and comp_choice == 2):\n",
        "        print('Scissors wins =>', end=\"\")\n",
        "        result = 'Rock'\n",
        "     # Printing either user or computer wins or draw\n",
        "    if result == 'DRAW':\n",
        "        print(\"<== Its a tie ==>\")\n",
        "    if result == choice_name:\n",
        "        print(\"<== User wins ==>\")\n",
        "    else:\n",
        "      print(\"<== Computer wins ==>\")\n",
        "      print(\"Do you want to play again? (Y/N)\")\n",
        "    # if user input n or N then condition is True\n",
        "    ans = input().lower()\n",
        "    if ans == 'n':\n",
        "        break\n",
        "# after coming out of the while loop\n",
        "# we print thanks for playing\n",
        "print(\"thanks for playing\")"
      ]
    },
    {
      "cell_type": "code",
      "source": [],
      "metadata": {
        "id": "u_iqjGuUpxoD"
      },
      "execution_count": null,
      "outputs": []
    },
    {
      "cell_type": "markdown",
      "source": [],
      "metadata": {
        "id": "N-aUKHNepFzp"
      }
    }
  ]
}